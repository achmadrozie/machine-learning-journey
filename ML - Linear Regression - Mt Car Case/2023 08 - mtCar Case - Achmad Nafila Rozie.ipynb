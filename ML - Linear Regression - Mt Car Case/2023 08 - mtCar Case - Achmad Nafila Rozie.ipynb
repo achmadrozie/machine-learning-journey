{
 "cells": [
  {
   "cell_type": "markdown",
   "id": "b9273b16",
   "metadata": {},
   "source": [
    "## Library Import"
   ]
  },
  {
   "cell_type": "code",
   "execution_count": 71,
   "id": "8e78bdde",
   "metadata": {},
   "outputs": [],
   "source": [
    "# Code you have previously used to load data\n",
    "import numpy as np\n",
    "import pandas as pd # load data and one-hot encoding"
   ]
  },
  {
   "cell_type": "markdown",
   "id": "a2bf471c",
   "metadata": {},
   "source": [
    "## Data Import"
   ]
  },
  {
   "cell_type": "code",
   "execution_count": 79,
   "id": "5dbcc551",
   "metadata": {},
   "outputs": [],
   "source": [
    "df = pd.read_csv('/Users/flp-13-achmadrozie/Downloads/mtCars - Sheet1.csv')"
   ]
  },
  {
   "cell_type": "code",
   "execution_count": 80,
   "id": "59e84b89",
   "metadata": {},
   "outputs": [
    {
     "data": {
      "text/html": [
       "<div>\n",
       "<style scoped>\n",
       "    .dataframe tbody tr th:only-of-type {\n",
       "        vertical-align: middle;\n",
       "    }\n",
       "\n",
       "    .dataframe tbody tr th {\n",
       "        vertical-align: top;\n",
       "    }\n",
       "\n",
       "    .dataframe thead th {\n",
       "        text-align: right;\n",
       "    }\n",
       "</style>\n",
       "<table border=\"1\" class=\"dataframe\">\n",
       "  <thead>\n",
       "    <tr style=\"text-align: right;\">\n",
       "      <th></th>\n",
       "      <th>model</th>\n",
       "      <th>mpg</th>\n",
       "      <th>cyl</th>\n",
       "      <th>disp</th>\n",
       "      <th>hp</th>\n",
       "      <th>drat</th>\n",
       "      <th>wt</th>\n",
       "      <th>qsec</th>\n",
       "      <th>vs</th>\n",
       "      <th>am</th>\n",
       "      <th>gear</th>\n",
       "      <th>carb</th>\n",
       "    </tr>\n",
       "  </thead>\n",
       "  <tbody>\n",
       "    <tr>\n",
       "      <th>0</th>\n",
       "      <td>Mazda RX4</td>\n",
       "      <td>21.0</td>\n",
       "      <td>6</td>\n",
       "      <td>160.0</td>\n",
       "      <td>110</td>\n",
       "      <td>3.90</td>\n",
       "      <td>2.620</td>\n",
       "      <td>16.46</td>\n",
       "      <td>0</td>\n",
       "      <td>1</td>\n",
       "      <td>4</td>\n",
       "      <td>4</td>\n",
       "    </tr>\n",
       "    <tr>\n",
       "      <th>1</th>\n",
       "      <td>Mazda RX4 Wag</td>\n",
       "      <td>21.0</td>\n",
       "      <td>6</td>\n",
       "      <td>160.0</td>\n",
       "      <td>110</td>\n",
       "      <td>3.90</td>\n",
       "      <td>2.875</td>\n",
       "      <td>17.02</td>\n",
       "      <td>0</td>\n",
       "      <td>1</td>\n",
       "      <td>4</td>\n",
       "      <td>4</td>\n",
       "    </tr>\n",
       "    <tr>\n",
       "      <th>2</th>\n",
       "      <td>Datsun 710</td>\n",
       "      <td>22.8</td>\n",
       "      <td>4</td>\n",
       "      <td>108.0</td>\n",
       "      <td>93</td>\n",
       "      <td>3.85</td>\n",
       "      <td>2.320</td>\n",
       "      <td>18.61</td>\n",
       "      <td>1</td>\n",
       "      <td>1</td>\n",
       "      <td>4</td>\n",
       "      <td>1</td>\n",
       "    </tr>\n",
       "    <tr>\n",
       "      <th>3</th>\n",
       "      <td>Hornet 4 Drive</td>\n",
       "      <td>21.4</td>\n",
       "      <td>6</td>\n",
       "      <td>258.0</td>\n",
       "      <td>110</td>\n",
       "      <td>3.08</td>\n",
       "      <td>3.215</td>\n",
       "      <td>19.44</td>\n",
       "      <td>1</td>\n",
       "      <td>0</td>\n",
       "      <td>3</td>\n",
       "      <td>1</td>\n",
       "    </tr>\n",
       "    <tr>\n",
       "      <th>4</th>\n",
       "      <td>Hornet Sportabout</td>\n",
       "      <td>18.7</td>\n",
       "      <td>8</td>\n",
       "      <td>360.0</td>\n",
       "      <td>175</td>\n",
       "      <td>3.15</td>\n",
       "      <td>3.440</td>\n",
       "      <td>17.02</td>\n",
       "      <td>0</td>\n",
       "      <td>0</td>\n",
       "      <td>3</td>\n",
       "      <td>2</td>\n",
       "    </tr>\n",
       "  </tbody>\n",
       "</table>\n",
       "</div>"
      ],
      "text/plain": [
       "               model   mpg  cyl   disp   hp  drat     wt   qsec  vs  am  gear  \\\n",
       "0          Mazda RX4  21.0    6  160.0  110  3.90  2.620  16.46   0   1     4   \n",
       "1      Mazda RX4 Wag  21.0    6  160.0  110  3.90  2.875  17.02   0   1     4   \n",
       "2         Datsun 710  22.8    4  108.0   93  3.85  2.320  18.61   1   1     4   \n",
       "3     Hornet 4 Drive  21.4    6  258.0  110  3.08  3.215  19.44   1   0     3   \n",
       "4  Hornet Sportabout  18.7    8  360.0  175  3.15  3.440  17.02   0   0     3   \n",
       "\n",
       "   carb  \n",
       "0     4  \n",
       "1     4  \n",
       "2     1  \n",
       "3     1  \n",
       "4     2  "
      ]
     },
     "execution_count": 80,
     "metadata": {},
     "output_type": "execute_result"
    }
   ],
   "source": [
    "df.head()"
   ]
  },
  {
   "cell_type": "markdown",
   "id": "87755982",
   "metadata": {},
   "source": [
    "#### Correlation Checking - untuk mencegah multikolinearitas"
   ]
  },
  {
   "cell_type": "code",
   "execution_count": 81,
   "id": "44a5be25",
   "metadata": {},
   "outputs": [],
   "source": [
    "# drop string variable\n",
    "df = df.drop('model', axis=1)\n",
    "correlation_matrix = df.corr()\n"
   ]
  },
  {
   "cell_type": "code",
   "execution_count": 82,
   "id": "2bf2c242",
   "metadata": {},
   "outputs": [
    {
     "data": {
      "image/png": "[encoded data removed]",
      "text/plain": [
       "<Figure size 720x576 with 2 Axes>"
      ]
     },
     "metadata": {
      "needs_background": "light"
     },
     "output_type": "display_data"
    }
   ],
   "source": [
    "plt.figure(figsize=(10, 8))  # Ukuran gambar\n",
    "sns.heatmap(correlation_matrix, annot=True, cmap=\"coolwarm\", linewidths=0.5)\n",
    "plt.title(\"Heatmap Korelasi\")\n",
    "plt.show()\n"
   ]
  },
  {
   "cell_type": "markdown",
   "id": "a35a8581",
   "metadata": {},
   "source": [
    "Test dengan Menghilangkan Korelasi tinggi"
   ]
  },
  {
   "cell_type": "code",
   "execution_count": 100,
   "id": "45424f12",
   "metadata": {},
   "outputs": [],
   "source": [
    "X = df.drop(columns=['mpg'])"
   ]
  },
  {
   "cell_type": "code",
   "execution_count": 101,
   "id": "f6d4b96a",
   "metadata": {},
   "outputs": [
    {
     "name": "stdout",
     "output_type": "stream",
     "text": [
      "DataFrame setelah menghilangkan variabel dengan korelasi tinggi:\n",
      "    cyl  drat   qsec  am  carb\n",
      "0     6  3.90  16.46   1     4\n",
      "1     6  3.90  17.02   1     4\n",
      "2     4  3.85  18.61   1     1\n",
      "3     6  3.08  19.44   0     1\n",
      "4     8  3.15  17.02   0     2\n",
      "5     6  2.76  20.22   0     1\n",
      "6     8  3.21  15.84   0     4\n",
      "7     4  3.69  20.00   0     2\n",
      "8     4  3.92  22.90   0     2\n",
      "9     6  3.92  18.30   0     4\n",
      "10    6  3.92  18.90   0     4\n",
      "11    8  3.07  17.40   0     3\n",
      "12    8  3.07  17.60   0     3\n",
      "13    8  3.07  18.00   0     3\n",
      "14    8  2.93  17.98   0     4\n",
      "15    8  3.00  17.82   0     4\n",
      "16    8  3.23  17.42   0     4\n",
      "17    4  4.08  19.47   1     1\n",
      "18    4  4.93  18.52   1     2\n",
      "19    4  4.22  19.90   1     1\n",
      "20    4  3.70  20.01   0     1\n",
      "21    8  2.76  16.87   0     2\n",
      "22    8  3.15  17.30   0     2\n",
      "23    8  3.73  15.41   0     4\n",
      "24    8  3.08  17.05   0     2\n",
      "25    4  4.08  18.90   1     1\n",
      "26    4  4.43  16.70   1     2\n",
      "27    4  3.77  16.90   1     2\n",
      "28    8  4.22  14.50   1     4\n",
      "29    6  3.62  15.50   1     6\n",
      "30    8  3.54  14.60   1     8\n",
      "31    4  4.11  18.60   1     2\n"
     ]
    }
   ],
   "source": [
    "# Menghitung matriks korelasi\n",
    "correlation_matrix = X.corr()\n",
    "\n",
    "# Menentukan threshold korelasi\n",
    "threshold = 0.75\n",
    "\n",
    "# Mengidentifikasi variabel yang memiliki korelasi tinggi\n",
    "high_corr_cols = set()\n",
    "\n",
    "for i in range(len(correlation_matrix.columns)):\n",
    "    for j in range(i):\n",
    "        if abs(correlation_matrix.iloc[i, j]) > threshold:\n",
    "            colname = correlation_matrix.columns[i]\n",
    "            high_corr_cols.add(colname)\n",
    "\n",
    "# Menghilangkan variabel yang memiliki korelasi tinggi\n",
    "df_filtered = X.drop(columns=high_corr_cols)\n",
    "\n",
    "print(\"DataFrame setelah menghilangkan variabel dengan korelasi tinggi:\")\n",
    "print(df_filtered)\n"
   ]
  },
  {
   "cell_type": "code",
   "execution_count": 102,
   "id": "4fb0144b",
   "metadata": {},
   "outputs": [],
   "source": [
    "X_cleansed = df[['cyl','drat','qsec','am','carb']]\n",
    "y_cleansed = df['mpg']"
   ]
  },
  {
   "cell_type": "code",
   "execution_count": 103,
   "id": "b0f4e517",
   "metadata": {},
   "outputs": [
    {
     "name": "stdout",
     "output_type": "stream",
     "text": [
      "                                 OLS Regression Results                                \n",
      "=======================================================================================\n",
      "Dep. Variable:                    mpg   R-squared (uncentered):                   0.985\n",
      "Model:                            OLS   Adj. R-squared (uncentered):              0.982\n",
      "Method:                 Least Squares   F-statistic:                              343.5\n",
      "Date:                Sat, 12 Aug 2023   Prob (F-statistic):                    1.52e-23\n",
      "Time:                        20:11:25   Log-Likelihood:                         -76.058\n",
      "No. Observations:                  32   AIC:                                      162.1\n",
      "Df Residuals:                      27   BIC:                                      169.4\n",
      "Df Model:                           5                                                  \n",
      "Covariance Type:            nonrobust                                                  \n",
      "==============================================================================\n",
      "                 coef    std err          t      P>|t|      [0.025      0.975]\n",
      "------------------------------------------------------------------------------\n",
      "cyl           -0.4573      0.361     -1.268      0.216      -1.197       0.283\n",
      "drat           2.9094      1.419      2.050      0.050      -0.002       5.821\n",
      "qsec           0.7725      0.263      2.940      0.007       0.233       1.312\n",
      "am             5.0594      1.718      2.946      0.007       1.535       8.584\n",
      "carb          -1.2109      0.444     -2.729      0.011      -2.121      -0.300\n",
      "==============================================================================\n",
      "Omnibus:                        0.296   Durbin-Watson:                   2.240\n",
      "Prob(Omnibus):                  0.862   Jarque-Bera (JB):                0.358\n",
      "Skew:                          -0.204   Prob(JB):                        0.836\n",
      "Kurtosis:                       2.680   Cond. No.                         81.0\n",
      "==============================================================================\n",
      "\n",
      "Notes:\n",
      "[1] R² is computed without centering (uncentered) since the model does not contain a constant.\n",
      "[2] Standard Errors assume that the covariance matrix of the errors is correctly specified.\n"
     ]
    }
   ],
   "source": [
    "import statsmodels.api as sm\n",
    "\n",
    "X_train_const = sm.add_constant(X)\n",
    "model = sm.OLS(y_cleansed, X_cleansed).fit()\n",
    "print(model.summary())"
   ]
  },
  {
   "cell_type": "code",
   "execution_count": 104,
   "id": "cb0b4f06",
   "metadata": {},
   "outputs": [],
   "source": [
    "# Check multicollinearity using VIF"
   ]
  },
  {
   "cell_type": "code",
   "execution_count": 111,
   "id": "f09c661b",
   "metadata": {},
   "outputs": [
    {
     "name": "stdout",
     "output_type": "stream",
     "text": [
      "  feature         VIF\n",
      "0     cyl   21.386214\n",
      "1    drat  105.757854\n",
      "2    qsec   88.304568\n",
      "3      am    4.764444\n",
      "4    carb    8.170409\n"
     ]
    }
   ],
   "source": [
    "from statsmodels.stats.outliers_influence import variance_inflation_factor\n",
    "\n",
    "vif_data = pd.DataFrame()\n",
    "vif_data[\"feature\"] = X_cleansed.columns\n",
    "vif_data[\"VIF\"] = [variance_inflation_factor(X_cleansed.values, i) for i in range(len(X_cleansed.columns))]\n",
    "\n",
    "print(vif_data)"
   ]
  },
  {
   "cell_type": "code",
   "execution_count": 112,
   "id": "83d954c4",
   "metadata": {},
   "outputs": [],
   "source": [
    "X_cleansed_2 = df[['cyl','qsec','am','carb']]\n",
    "y_cleansed_2 = df['mpg']"
   ]
  },
  {
   "cell_type": "code",
   "execution_count": 113,
   "id": "7f39af37",
   "metadata": {},
   "outputs": [
    {
     "name": "stdout",
     "output_type": "stream",
     "text": [
      "  feature        VIF\n",
      "0     cyl  21.346727\n",
      "1    qsec  13.499495\n",
      "2      am   2.259054\n",
      "3    carb   7.464366\n"
     ]
    }
   ],
   "source": [
    "from statsmodels.stats.outliers_influence import variance_inflation_factor\n",
    "\n",
    "vif_data = pd.DataFrame()\n",
    "vif_data[\"feature\"] = X_cleansed_2.columns\n",
    "vif_data[\"VIF\"] = [variance_inflation_factor(X_cleansed_2.values, i) for i in range(len(X_cleansed_2.columns))]\n",
    "\n",
    "print(vif_data)"
   ]
  },
  {
   "cell_type": "code",
   "execution_count": 114,
   "id": "b2202eb0",
   "metadata": {},
   "outputs": [],
   "source": [
    "X_cleansed_3 = df[['qsec','am','carb']]\n",
    "y_cleansed_3 = df['mpg']"
   ]
  },
  {
   "cell_type": "code",
   "execution_count": 115,
   "id": "c84472fe",
   "metadata": {},
   "outputs": [
    {
     "name": "stdout",
     "output_type": "stream",
     "text": [
      "  feature       VIF\n",
      "0    qsec  3.626427\n",
      "1      am  1.647926\n",
      "2    carb  3.365382\n"
     ]
    }
   ],
   "source": [
    "from statsmodels.stats.outliers_influence import variance_inflation_factor\n",
    "\n",
    "vif_data = pd.DataFrame()\n",
    "vif_data[\"feature\"] = X_cleansed_3.columns\n",
    "vif_data[\"VIF\"] = [variance_inflation_factor(X_cleansed_3.values, i) for i in range(len(X_cleansed_3.columns))]\n",
    "\n",
    "print(vif_data)"
   ]
  },
  {
   "cell_type": "code",
   "execution_count": 116,
   "id": "c9d62a0e",
   "metadata": {
    "scrolled": true
   },
   "outputs": [
    {
     "name": "stdout",
     "output_type": "stream",
     "text": [
      "                                 OLS Regression Results                                \n",
      "=======================================================================================\n",
      "Dep. Variable:                    mpg   R-squared (uncentered):                   0.981\n",
      "Model:                            OLS   Adj. R-squared (uncentered):              0.979\n",
      "Method:                 Least Squares   F-statistic:                              500.6\n",
      "Date:                Sat, 12 Aug 2023   Prob (F-statistic):                    4.61e-25\n",
      "Time:                        20:57:34   Log-Likelihood:                         -79.291\n",
      "No. Observations:                  32   AIC:                                      164.6\n",
      "Df Residuals:                      29   BIC:                                      169.0\n",
      "Df Model:                           3                                                  \n",
      "Covariance Type:            nonrobust                                                  \n",
      "==============================================================================\n",
      "                 coef    std err          t      P>|t|      [0.025      0.975]\n",
      "------------------------------------------------------------------------------\n",
      "qsec           1.1491      0.057     20.214      0.000       1.033       1.265\n",
      "am             8.4482      1.078      7.835      0.000       6.243      10.654\n",
      "carb          -1.3701      0.304     -4.507      0.000      -1.992      -0.748\n",
      "==============================================================================\n",
      "Omnibus:                        1.226   Durbin-Watson:                   1.676\n",
      "Prob(Omnibus):                  0.542   Jarque-Bera (JB):                1.179\n",
      "Skew:                          -0.353   Prob(JB):                        0.555\n",
      "Kurtosis:                       2.379   Cond. No.                         36.6\n",
      "==============================================================================\n",
      "\n",
      "Notes:\n",
      "[1] R² is computed without centering (uncentered) since the model does not contain a constant.\n",
      "[2] Standard Errors assume that the covariance matrix of the errors is correctly specified.\n"
     ]
    }
   ],
   "source": [
    "import statsmodels.api as sm\n",
    "\n",
    "X_train_const = sm.add_constant(X)\n",
    "model = sm.OLS(y_cleansed_3, X_cleansed_3).fit()\n",
    "print(model.summary())"
   ]
  },
  {
   "cell_type": "markdown",
   "id": "44d2fd95",
   "metadata": {},
   "source": [
    "________________________________"
   ]
  }
 ],
 "metadata": {
  "kernelspec": {
   "display_name": "Python 3 (ipykernel)",
   "language": "python",
   "name": "python3"
  },
  "language_info": {
   "codemirror_mode": {
    "name": "ipython",
    "version": 3
   },
   "file_extension": ".py",
   "mimetype": "text/x-python",
   "name": "python",
   "nbconvert_exporter": "python",
   "pygments_lexer": "ipython3",
   "version": "3.9.7"
  }
 },
 "nbformat": 4,
 "nbformat_minor": 5
}
